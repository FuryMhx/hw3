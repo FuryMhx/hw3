{
 "cells": [
  {
   "cell_type": "code",
   "execution_count": 2,
   "id": "0d7d059a",
   "metadata": {},
   "outputs": [],
   "source": [
    "import numpy as np\n",
    "import cmath"
   ]
  },
  {
   "cell_type": "code",
   "execution_count": 3,
   "id": "d552056a",
   "metadata": {},
   "outputs": [
    {
     "name": "stdout",
     "output_type": "stream",
     "text": [
      "(0.9999779997579946, 120.00072778082739)\n"
     ]
    }
   ],
   "source": [
    "def cart2pol(x, y):\n",
    "    magnitude = np.sqrt(x**2 + y**2)\n",
    "    phase = np.arctan2(y, x)/np.pi*180\n",
    "    return(magnitude,phase)\n",
    "\n",
    "print(cart2pol(-0.5,0.866))"
   ]
  },
  {
   "cell_type": "code",
   "execution_count": 4,
   "id": "98bf03ff",
   "metadata": {},
   "outputs": [
    {
     "name": "stdout",
     "output_type": "stream",
     "text": [
      "(-0.4999999999999998+0.8660254037844387j)\n"
     ]
    },
    {
     "name": "stderr",
     "output_type": "stream",
     "text": [
      "<ipython-input-4-b91e7c7f80f3>:4: DeprecationWarning: `np.complex` is a deprecated alias for the builtin `complex`. To silence this warning, use `complex` by itself. Doing this will not modify any behavior and is safe. If you specifically wanted the numpy scalar type, use `np.complex128` here.\n",
      "Deprecated in NumPy 1.20; for more details and guidance: https://numpy.org/devdocs/release/1.20.0-notes.html#deprecations\n",
      "  return(np.complex(x,y))\n"
     ]
    }
   ],
   "source": [
    "def pol2cart(magnitude, phase):\n",
    "    x = magnitude * np.cos(phase/180*np.pi)\n",
    "    y = magnitude * np.sin(phase/180*np.pi)\n",
    "    return(np.complex(x,y))\n",
    "\n",
    "print(pol2cart(1,120))"
   ]
  },
  {
   "cell_type": "code",
   "execution_count": 13,
   "id": "d0ed8655",
   "metadata": {},
   "outputs": [],
   "source": [
    "def pha2seq(Va,Vb,Vc):\n",
    " a = np.complex(-0.5,0.866)\n",
    " V0_rec = 1/3*(Va+Vb+Vc)\n",
    " V1_rec = 1/3*(Va+a*Vb+a*a*Vc)\n",
    " V2_rec = 1/3*(Va+a*a*Vb+a*Vc)\n",
    " V0 = cmath.polar(V0_rec)\n",
    " V1 = cmath.polar(V1_rec)\n",
    " V2 = cmath.polar(V2_rec)\n",
    " return V0,V1,V2\n"
   ]
  },
  {
   "cell_type": "code",
   "execution_count": 15,
   "id": "68cd06de",
   "metadata": {},
   "outputs": [],
   "source": [
    "def seq2pha(V0,V1,V2):\n",
    " a = np.complex(-0.5,0.866)\n",
    " Va = cmath.polar(V0+V1+V2)\n",
    " Vb = cmath.polar(V0+a*a*V1+a*V2)\n",
    " Vc = cmath.polar(V0+a*V1+a*a*V2)\n",
    " return Va,Vb,Vc"
   ]
  },
  {
   "cell_type": "code",
   "execution_count": null,
   "id": "77296ae1",
   "metadata": {},
   "outputs": [],
   "source": [
    "Va = pol2cart(300,0)\n",
    "Vb = pol2cart(280,-105)\n",
    "Vc = pol2cart(320,140)\n",
    "Vs = pha2seq(Va,Vb,Vc)\n",
    "print (Vs)"
   ]
  },
  {
   "cell_type": "code",
   "execution_count": null,
   "id": "4b00e6dc",
   "metadata": {},
   "outputs": [],
   "source": [
    "Va = pol2cart(120,90)\n",
    "Vb = pol2cart(120,330)\n",
    "Vc = pol2cart(120,210)\n",
    "print(pha2seq(Va,Vb,Vc))"
   ]
  },
  {
   "cell_type": "code",
   "execution_count": null,
   "id": "6c19d372",
   "metadata": {},
   "outputs": [],
   "source": [
    "Ia = pol2cart(240,30)\n",
    "Ib = pol2cart(240,150)\n",
    "Ic = pol2cart(240,270)\n",
    "print(pha2seq(Ia,Ib,Ic))"
   ]
  },
  {
   "cell_type": "code",
   "execution_count": null,
   "id": "36df3660",
   "metadata": {},
   "outputs": [],
   "source": [
    "Va = pol2cart(200,0)\n",
    "Vb = pol2cart(240,240)\n",
    "Vc = pol2cart(180,120)\n",
    "print(pha2seq(Va,Vb,Vc))"
   ]
  },
  {
   "cell_type": "code",
   "execution_count": 25,
   "id": "f075d625",
   "metadata": {},
   "outputs": [
    {
     "name": "stdout",
     "output_type": "stream",
     "text": [
      "((6.972459419812662, 1.483529864195181), (119.59164019712772, -0.11640708155162818), (6.970864355543431, 1.4834231580795534))\n"
     ]
    },
    {
     "name": "stderr",
     "output_type": "stream",
     "text": [
      "<ipython-input-4-b91e7c7f80f3>:4: DeprecationWarning: `np.complex` is a deprecated alias for the builtin `complex`. To silence this warning, use `complex` by itself. Doing this will not modify any behavior and is safe. If you specifically wanted the numpy scalar type, use `np.complex128` here.\n",
      "Deprecated in NumPy 1.20; for more details and guidance: https://numpy.org/devdocs/release/1.20.0-notes.html#deprecations\n",
      "  return(np.complex(x,y))\n",
      "<ipython-input-13-89896187a8fb>:2: DeprecationWarning: `np.complex` is a deprecated alias for the builtin `complex`. To silence this warning, use `complex` by itself. Doing this will not modify any behavior and is safe. If you specifically wanted the numpy scalar type, use `np.complex128` here.\n",
      "Deprecated in NumPy 1.20; for more details and guidance: https://numpy.org/devdocs/release/1.20.0-notes.html#deprecations\n",
      "  a = np.complex(-0.5,0.866)\n"
     ]
    }
   ],
   "source": [
    "Ia = pol2cart(120,0)\n",
    "Ib = pol2cart(120,230)\n",
    "Ic = pol2cart(120,110)\n",
    "print(pha2seq(Ia,Ib,Ic))"
   ]
  },
  {
   "cell_type": "code",
   "execution_count": null,
   "id": "1ff77d99",
   "metadata": {},
   "outputs": [],
   "source": [
    "I0 = pol2cart(0,0)\n",
    "I1 = pol2cart(120,-30)\n",
    "I2 = pol2cart(0,0)\n",
    "print(seq2pha(I0,I1,I2))"
   ]
  },
  {
   "cell_type": "code",
   "execution_count": null,
   "id": "e05dc378",
   "metadata": {},
   "outputs": [],
   "source": [
    "V0 = pol2cart(0,0)\n",
    "V1 = pol2cart(0,0)\n",
    "V2 = pol2cart(100,20)\n",
    "print(seq2pha(V0,V1,V2))"
   ]
  },
  {
   "cell_type": "code",
   "execution_count": null,
   "id": "35487ba6",
   "metadata": {},
   "outputs": [],
   "source": [
    "I0 = pol2cart(20,15)\n",
    "I1 = pol2cart(0,0)\n",
    "I2 = pol2cart(0,0)\n",
    "print(seq2pha(I0,I1,I2))"
   ]
  },
  {
   "cell_type": "code",
   "execution_count": null,
   "id": "7da5ac59",
   "metadata": {},
   "outputs": [],
   "source": [
    "V0 = pol2cart(0,0)\n",
    "V1 = pol2cart(240,0)\n",
    "V2 = pol2cart(20,0)\n",
    "print(seq2pha(V0,V1,V2))"
   ]
  }
 ],
 "metadata": {
  "kernelspec": {
   "display_name": "Python 3.8.8 ('base')",
   "language": "python",
   "name": "python3"
  },
  "language_info": {
   "codemirror_mode": {
    "name": "ipython",
    "version": 3
   },
   "file_extension": ".py",
   "mimetype": "text/x-python",
   "name": "python",
   "nbconvert_exporter": "python",
   "pygments_lexer": "ipython3",
   "version": "3.8.8"
  },
  "vscode": {
   "interpreter": {
    "hash": "f08154012ddadd8e950e6e9e035c7a7b32c136e7647e9b7c77e02eb723a8bedb"
   }
  }
 },
 "nbformat": 4,
 "nbformat_minor": 5
}
