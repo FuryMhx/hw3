{
 "cells": [
  {
   "cell_type": "code",
   "execution_count": 1,
   "id": "0d7d059a",
   "metadata": {},
   "outputs": [],
   "source": [
    "import numpy as np"
   ]
  },
  {
   "cell_type": "code",
   "execution_count": 22,
   "id": "d552056a",
   "metadata": {},
   "outputs": [
    {
     "name": "stdout",
     "output_type": "stream",
     "text": [
      "(0.9999779997579946, 120.00072778082739)\n"
     ]
    }
   ],
   "source": [
    "def cart2pol(x, y):\n",
    "    magnitude = np.sqrt(x**2 + y**2)\n",
    "    phase = np.arctan2(y, x)/np.pi*180\n",
    "    return(magnitude,phase)\n",
    "\n",
    "print(cart2pol(-0.5,0.866))"
   ]
  },
  {
   "cell_type": "code",
   "execution_count": 19,
   "id": "98bf03ff",
   "metadata": {},
   "outputs": [
    {
     "name": "stdout",
     "output_type": "stream",
     "text": [
      "(-0.4999999999999998+0.8660254037844387j)\n"
     ]
    },
    {
     "name": "stderr",
     "output_type": "stream",
     "text": [
      "<ipython-input-19-b91e7c7f80f3>:4: DeprecationWarning: `np.complex` is a deprecated alias for the builtin `complex`. To silence this warning, use `complex` by itself. Doing this will not modify any behavior and is safe. If you specifically wanted the numpy scalar type, use `np.complex128` here.\n",
      "Deprecated in NumPy 1.20; for more details and guidance: https://numpy.org/devdocs/release/1.20.0-notes.html#deprecations\n",
      "  return(np.complex(x,y))\n"
     ]
    }
   ],
   "source": [
    "def pol2cart(magnitude, phase):\n",
    "    x = magnitude * np.cos(phase/180*np.pi)\n",
    "    y = magnitude * np.sin(phase/180*np.pi)\n",
    "    return(np.complex(x,y))\n",
    "\n",
    "print(pol2cart(1,120))"
   ]
  },
  {
   "cell_type": "code",
   "execution_count": 14,
   "id": "55a0f962",
   "metadata": {},
   "outputs": [
    {
     "name": "stdout",
     "output_type": "stream",
     "text": [
      "[3]\n",
      "[(4.4000000000044004e-05+0j)]\n",
      "[(4.4000000000044004e-05+0j)]\n",
      "None\n"
     ]
    },
    {
     "name": "stderr",
     "output_type": "stream",
     "text": [
      "<ipython-input-14-1f929e2e4915>:2: DeprecationWarning: `np.complex` is a deprecated alias for the builtin `complex`. To silence this warning, use `complex` by itself. Doing this will not modify any behavior and is safe. If you specifically wanted the numpy scalar type, use `np.complex128` here.\n",
      "Deprecated in NumPy 1.20; for more details and guidance: https://numpy.org/devdocs/release/1.20.0-notes.html#deprecations\n",
      "  a = np.complex(-0.5,0.866)\n"
     ]
    }
   ],
   "source": [
    "def pha2seq(Va,Vb,Vc):\n",
    " a = np.complex(-0.5,0.866)\n",
    " A = [[1, 1, 1],\n",
    "      [1, a, a*a],\n",
    "      [1, a*a, a]]\n",
    " \n",
    "# take a 3x4 matrix   \n",
    " B = [[Va],\n",
    "      [Vb],\n",
    "      [Vc]]\n",
    "     \n",
    " result = [[0],\n",
    "           [0],\n",
    "           [0]]\n",
    " \n",
    "# iterating by row of A\n",
    " for i in range(len(A)):\n",
    " \n",
    "    # iterating by column by B\n",
    "    for j in range(len(B[0])):\n",
    " \n",
    "        # iterating by rows of B\n",
    "        for k in range(len(B)):\n",
    "            result[i][j] += A[i][k] * B[k][j]\n",
    " \n",
    " for r in result:\n",
    "     print(r)\n"
   ]
  },
  {
   "cell_type": "code",
   "execution_count": 23,
   "id": "77296ae1",
   "metadata": {},
   "outputs": [
    {
     "name": "stdout",
     "output_type": "stream",
     "text": [
      "[(-2.842170943040401e-14+2.842170943040401e-14j)]\n",
      "[(329.99273992901124+0.004191562954240169j)]\n",
      "[(0.0024200709887765015-0.004191562954261485j)]\n",
      "None\n"
     ]
    },
    {
     "name": "stderr",
     "output_type": "stream",
     "text": [
      "<ipython-input-19-b91e7c7f80f3>:4: DeprecationWarning: `np.complex` is a deprecated alias for the builtin `complex`. To silence this warning, use `complex` by itself. Doing this will not modify any behavior and is safe. If you specifically wanted the numpy scalar type, use `np.complex128` here.\n",
      "Deprecated in NumPy 1.20; for more details and guidance: https://numpy.org/devdocs/release/1.20.0-notes.html#deprecations\n",
      "  return(np.complex(x,y))\n",
      "<ipython-input-14-1f929e2e4915>:2: DeprecationWarning: `np.complex` is a deprecated alias for the builtin `complex`. To silence this warning, use `complex` by itself. Doing this will not modify any behavior and is safe. If you specifically wanted the numpy scalar type, use `np.complex128` here.\n",
      "Deprecated in NumPy 1.20; for more details and guidance: https://numpy.org/devdocs/release/1.20.0-notes.html#deprecations\n",
      "  a = np.complex(-0.5,0.866)\n"
     ]
    }
   ],
   "source": [
    "Va = pol2cart(110,0)\n",
    "Vb = pol2cart(110,240)\n",
    "Vc = pol2cart(110,120)\n",
    "\n",
    "print(pha2seq(Va,Vb,Vc))\n"
   ]
  }
 ],
 "metadata": {
  "kernelspec": {
   "display_name": "Python 3.8.8 ('base')",
   "language": "python",
   "name": "python3"
  },
  "language_info": {
   "codemirror_mode": {
    "name": "ipython",
    "version": 3
   },
   "file_extension": ".py",
   "mimetype": "text/x-python",
   "name": "python",
   "nbconvert_exporter": "python",
   "pygments_lexer": "ipython3",
   "version": "3.8.8"
  },
  "vscode": {
   "interpreter": {
    "hash": "f08154012ddadd8e950e6e9e035c7a7b32c136e7647e9b7c77e02eb723a8bedb"
   }
  }
 },
 "nbformat": 4,
 "nbformat_minor": 5
}
